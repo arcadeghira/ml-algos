{
 "cells": [
  {
   "cell_type": "code",
   "execution_count": 1,
   "metadata": {},
   "outputs": [],
   "source": [
    "import pandas as pd\n",
    "import numpy as np"
   ]
  },
  {
   "cell_type": "markdown",
   "metadata": {},
   "source": [
    "# Graphical lasso\n",
    "\n",
    "The graphical lasso is a method proposed by Friedman et al. in 2007 to estimate a sparse graph through a sparse penalty.\n",
    "\n",
    "\n",
    "This models assumes that the covariates we are analyzing have a multivariate Gaussian distribution with mean $\\mu$ and covariance $\\Sigma$.\n",
    "\n",
    "Moreover it is known that if the $ij$-th components of the inverse of the covariance matrix $\\Sigma^{-1} = \\Theta$ is zero, than the two variables $i$ and $j$ are conditionally independent given the others variable.\n",
    "\n",
    "Some papers proposed different methods to reach an approximate solution of the problem, typically they are based on the maximization of a likelihood, derived from the distribution, given as \n",
    "\n",
    "$$ \\text{log det}\\Theta - \\text{tr}(S\\Theta) $$\n",
    "\n",
    "where $\\Theta$ is the inverse of the covariance matrix and its the unknown graph we want to estimate, and $S$ is the empirical covariance of our data. \n",
    "If we have a matrix $X \\in \\mathcal{R}^{n \\times d}$ than $S=\\frac{1}{n}X^TX \\in \\mathcal{R}^{d \\times d}$\n",
    "\n",
    "Since the $\\Theta$ is supposed to be sparse the final functional imposes also a sparse penalty on it.\n",
    "\n",
    "$$ \\hat{\\Theta} = \\underset{\\Theta}{\\text{argmin}}\\left(\\text{tr}(S\\Theta) - \\text{log det}(\\Theta) + \\lambda\\sum_{j\\neq k}|\\Theta_{jk}|\\right)$$"
   ]
  },
  {
   "cell_type": "markdown",
   "metadata": {},
   "source": [
    "## In this lab you are going infer a sparse network in two flavors:\n",
    "    \n",
    "    -Supervised\n",
    "    -Unsupervised\n",
    "    \n",
    "**More specifically, you will be given n observations, drawn from a fully specified multivariate Gaussian distribution, whose precisione matrix is known. You will infer a precision matrix by maximizing a score in a cross-validation scheme (supervised) and then you will assume you do not know the underlying distribution (*i.e.* the precision matrix) and will try to infer a precision matrix in an unsupervised manner.**"
   ]
  },
  {
   "cell_type": "markdown",
   "metadata": {},
   "source": [
    "Define the distribution, the number of samples, variables"
   ]
  },
  {
   "cell_type": "code",
   "execution_count": 2,
   "metadata": {},
   "outputs": [],
   "source": [
    "import matplotlib.pyplot as plt\n",
    "%matplotlib inline\n",
    "\n",
    "np.random.seed(20)"
   ]
  },
  {
   "cell_type": "code",
   "execution_count": 3,
   "metadata": {},
   "outputs": [],
   "source": [
    "X = np.load('data.npy')\n",
    "y = np.load('target.npy')"
   ]
  },
  {
   "cell_type": "markdown",
   "metadata": {},
   "source": [
    "**The precision matrix is the following `precision`**"
   ]
  },
  {
   "cell_type": "code",
   "execution_count": 4,
   "metadata": {},
   "outputs": [
    {
     "data": {
      "text/plain": [
       "<matplotlib.colorbar.Colorbar at 0x1a69de08088>"
      ]
     },
     "execution_count": 4,
     "metadata": {},
     "output_type": "execute_result"
    },
    {
     "data": {
      "image/png": "[encoded data removed]",
      "text/plain": [
       "<Figure size 432x288 with 2 Axes>"
      ]
     },
     "metadata": {
      "needs_background": "light"
     },
     "output_type": "display_data"
    }
   ],
   "source": [
    "precision = np.load('precision.npy')\n",
    "\n",
    "plt.imshow(precision, cmap = 'viridis')\n",
    "plt.colorbar()"
   ]
  },
  {
   "cell_type": "markdown",
   "metadata": {},
   "source": [
    "**You are going to use the sklearn [GraphLasso](http://scikit-learn.org/stable/modules/generated/sklearn.covariance.GraphLasso.html#sklearn.covariance.GraphLasso)**"
   ]
  },
  {
   "cell_type": "markdown",
   "metadata": {},
   "source": [
    "Define a plausible list of parameters for the model"
   ]
  },
  {
   "cell_type": "code",
   "execution_count": 5,
   "metadata": {},
   "outputs": [],
   "source": [
    "alphas = [0.01, 0.05, 0.1, 0.15, 0.5, 0.8, 1, 2, 5, 10, 12, 15, 20, 25, 30, 40, 45, 50, 55, 60, 65, 70, 75, 80, 90, 100]#\n",
    "import warnings\n",
    "warnings.filterwarnings(\"ignore\")"
   ]
  },
  {
   "cell_type": "markdown",
   "metadata": {},
   "source": [
    "For each hyper-parameter in the list `alphas` fit a GraphicaLasso model to your data and choose the best one according to score of your choice (**Hint: remember that inferring the right edges is equivalent to inferring the right class in a binary classificaion problem**)."
   ]
  },
  {
   "cell_type": "code",
   "execution_count": 6,
   "metadata": {},
   "outputs": [
    {
     "name": "stdout",
     "output_type": "stream",
     "text": [
      "Estimating network for alpha=0.01 ...\n",
      "Estimating network for alpha=0.05 ...\n",
      "Estimating network for alpha=0.1 ...\n",
      "Estimating network for alpha=0.15 ...\n",
      "Estimating network for alpha=0.5 ...\n",
      "Estimating network for alpha=0.8 ...\n",
      "Estimating network for alpha=1 ...\n",
      "Estimating network for alpha=2 ...\n",
      "Estimating network for alpha=5 ...\n",
      "Estimating network for alpha=10 ...\n",
      "Estimating network for alpha=12 ...\n",
      "Estimating network for alpha=15 ...\n",
      "Estimating network for alpha=20 ...\n",
      "Estimating network for alpha=25 ...\n",
      "Estimating network for alpha=30 ...\n",
      "Estimating network for alpha=40 ...\n",
      "Estimating network for alpha=45 ...\n",
      "Estimating network for alpha=50 ...\n",
      "Estimating network for alpha=55 ...\n",
      "Estimating network for alpha=60 ...\n",
      "Estimating network for alpha=65 ...\n",
      "Estimating network for alpha=70 ...\n",
      "Estimating network for alpha=75 ...\n",
      "Estimating network for alpha=80 ...\n",
      "Estimating network for alpha=90 ...\n",
      "Estimating network for alpha=100 ...\n",
      "The best value for the regularization parameter alpha is  0.5\n"
     ]
    },
    {
     "data": {
      "text/plain": [
       "Text(0, 0.5, 'accuracy')"
      ]
     },
     "execution_count": 6,
     "metadata": {},
     "output_type": "execute_result"
    },
    {
     "data": {
      "image/png": "[encoded data removed]",
      "text/plain": [
       "<Figure size 432x288 with 1 Axes>"
      ]
     },
     "metadata": {
      "needs_background": "light"
     },
     "output_type": "display_data"
    }
   ],
   "source": [
    "##Your code here\n",
    "def compute_qtys_needed(y_pred, y, class_labels):\n",
    "    pos_class = class_labels[class_labels > 0]\n",
    "    neg_class = class_labels[class_labels <= 0]\n",
    "    pos_y_idx = y == pos_class\n",
    "    neg_y_idx = y == neg_class\n",
    "    pos_y_pred_idx = y_pred == pos_class\n",
    "    neg_y_pred_idx = y_pred == neg_class\n",
    "    TP = np.count_nonzero(y_pred[pos_y_idx] == pos_class)\n",
    "    TN = np.count_nonzero(y_pred[neg_y_idx] == neg_class)\n",
    "    FP = np.count_nonzero(y[pos_y_pred_idx] == neg_class)\n",
    "    FN = np.count_nonzero(y[neg_y_pred_idx] == pos_class)\n",
    "    return TP, TN, FP, FN\n",
    "\n",
    "def calc_accuracy(y_pred, y, class_labels):\n",
    "    TP, TN, FP, FN = compute_qtys_needed(y_pred, y, class_labels)\n",
    "    return (TN + TP)/(float(TN + TP + FP + FN))\n",
    "\n",
    "    \n",
    "from sklearn.covariance import GraphicalLasso\n",
    "from sklearn.covariance import EmpiricalCovariance\n",
    "\n",
    "adj_ground_truth = np.where(precision != 0, 1, 0)\n",
    "est_acc = np.zeros(len(alphas))\n",
    "for idx, alph in enumerate(alphas):\n",
    "    print (\"Estimating network for alpha=%s ...\" % alph)\n",
    "    cov = GraphicalLasso(alpha = alph, max_iter=3000).fit(X)\n",
    "    precision_matrix = cov.get_precision()\n",
    "    est_adj = np.where(precision_matrix != 0, 1, 0)\n",
    "    est_acc[idx] = calc_accuracy(est_adj, adj_ground_truth, np.array([0, 1]))\n",
    "\n",
    "best_reg_par = np.array(alphas)[np.argmax(est_acc)]\n",
    "print (\"The best value for the regularization parameter alpha is \", best_reg_par)\n",
    "plt.semilogx(alphas, est_acc)\n",
    "plt.xlabel(\"alpha\")\n",
    "plt.ylabel(\"accuracy\")"
   ]
  },
  {
   "cell_type": "markdown",
   "metadata": {},
   "source": [
    "Define a function able to recover the corresponding adjacency matrix from an arbitrary square matrix"
   ]
  },
  {
   "cell_type": "code",
   "execution_count": 7,
   "metadata": {},
   "outputs": [],
   "source": [
    "##Your code here\n",
    "\n",
    "def get_adj_matrix(X, precision_ground_truth, alphas=[0.01, 0.05, 0.1, 0.15, 0.5, 0.8, 1, 2, 5, 10, 12, 15, 20, 25, 30, 40, 45, 50, 55, 60, 65, 70, 75, 80, 90, 100]):\n",
    "    \n",
    "    adj_ground_truth = np.where(precision_ground_truth != 0, 1, 0)\n",
    "    est_acc = np.zeros(len(alphas))\n",
    "    for idx, alph in enumerate(alphas):\n",
    "        cov = GraphicalLasso(alpha = alph, max_iter=3000).fit(X)\n",
    "        precision_matrix = cov.get_precision()\n",
    "        est_adj = np.where(precision_matrix != 0, 1, 0)\n",
    "        est_acc[idx] = calc_accuracy(est_adj, adj_ground_truth, np.array([0, 1]))\n",
    "\n",
    "    best_reg_par = np.array(alphas)[np.argmax(est_acc)]\n",
    "    best_cov = GraphicalLasso(alpha = best_reg_par, max_iter =1000).fit(X)\n",
    "    return np.where(best_cov.get_precision() !=0, 1, 0) \n"
   ]
  },
  {
   "cell_type": "markdown",
   "metadata": {},
   "source": [
    "Compare the aground-truth adjacency matrix with the inferred one usign the **Hamming distance**"
   ]
  },
  {
   "cell_type": "code",
   "execution_count": 8,
   "metadata": {},
   "outputs": [],
   "source": [
    "##Your code here\n",
    "def hamming_distance(adj_ground_truth, est_adj):\n",
    "    N = adj_ground_truth.shape[1]\n",
    "    abs_diff = np.abs(adj_ground_truth-est_adj)\n",
    "    return np.sum(abs_diff[np.where(np.eye(N) > 0, 0, 1)])/(N*(N-1))"
   ]
  },
  {
   "cell_type": "code",
   "execution_count": 9,
   "metadata": {},
   "outputs": [
    {
     "name": "stdout",
     "output_type": "stream",
     "text": [
      "The value of the Hamming distance computed between the ground truth network and the inferred one is  3.0303030303030303\n"
     ]
    }
   ],
   "source": [
    "adj_ground_truth = np.where(precision !=0, 1, 0) #with precision, we evaluate in a supervised learning way our estimated network\n",
    "est_adj = get_adj_matrix(X, precision)\n",
    "\n",
    "print (\"The value of the Hamming distance computed between the ground truth network and the inferred one is \", hamming_distance(adj_ground_truth, est_adj))"
   ]
  },
  {
   "cell_type": "code",
   "execution_count": 10,
   "metadata": {},
   "outputs": [
    {
     "data": {
      "image/png": "[encoded data removed]",
      "text/plain": [
       "<Figure size 936x936 with 2 Axes>"
      ]
     },
     "metadata": {
      "needs_background": "light"
     },
     "output_type": "display_data"
    }
   ],
   "source": [
    "#Plot\n",
    "plt.figure(figsize=(13, 13))\n",
    "plt.subplot(121)\n",
    "plt.imshow(adj_ground_truth * np.where(np.eye(adj_ground_truth.shape[0])==0, 1, 0))\n",
    "plt.title(\"Adjacency matrix of the ground-truth network\")\n",
    "\n",
    "plt.subplot(122)\n",
    "plt.imshow(est_adj * np.where(np.eye(adj_ground_truth.shape[0])==0, 1, 0))\n",
    "plt.title('Adjacency matrix estimated from X, using the true precision matrix for comparisons');\n",
    "plt.tight_layout()"
   ]
  },
  {
   "cell_type": "markdown",
   "metadata": {},
   "source": [
    "### Unsupervised learning of the precision matrix"
   ]
  },
  {
   "cell_type": "markdown",
   "metadata": {},
   "source": [
    "Assum that you do not know the precision matrix of the underlying data distribution. You need to perform inference of the precision matrix only using your observations. Typically, in this setting, Probabilistic model selection (or “information criteria”) provides an analytical technique for scoring and choosing among candidate models.\n",
    "\n",
    "You are going to use the **`Bayesian Information Criterion (BIC)`**, ppropriate for models fit under the maximum likelihood estimation framework.\n",
    "\n",
    "It is defined as:\n",
    "\n",
    "$$BIC = -2LL + \\log(N)k$$\n",
    "\n",
    "where LL is the log-likelihood of the model, N is the number of examples in the training dataset, and k is the number of parameters in the model.\n",
    "\n",
    "The score as defined above is minimized, e.g. the model with the lowest BIC is selected."
   ]
  },
  {
   "cell_type": "markdown",
   "metadata": {},
   "source": [
    "**Define a function for computing the BIC specific for the Graphical Lasso likelihood:**\n",
    "\n",
    "$$ \\text{log det}\\Theta - \\text{tr}(S\\Theta) $$"
   ]
  },
  {
   "cell_type": "code",
   "execution_count": 11,
   "metadata": {},
   "outputs": [],
   "source": [
    "def BIC(X, precision_matrix, empirical_covariance, k, N):\n",
    "    #the number of parameters of a Gaussian model is 2, therefore we set k=2\n",
    "    eig_vals = np.linalg.eigvals(precision_matrix)\n",
    "    #the determinant of a square matrix equals the product of all the eigenvalues\n",
    "    BIC = -2*(np.log(np.prod(eig_vals)) - np.trace(np.dot(empirical_covariance, precision_matrix))) + np.log(N)*k\n",
    "    return BIC\n",
    "\n",
    "def BIC_sklearn(X, k, cov, N):\n",
    "    #the number of parameters of a Gaussian model is 2, therefore we set k=2\n",
    "    #the determinant of a square matrix equals the product of all the eigenvalues\n",
    "    BIC = -2*cov.score(X) + np.log(N)*k\n",
    "    return BIC"
   ]
  },
  {
   "cell_type": "markdown",
   "metadata": {},
   "source": [
    "**Define a splitting scheme in order to obtain for each split the BIC and for each hyper-parameter a average BIC over the splits. Then plot the average BIC against the parameters.**"
   ]
  },
  {
   "cell_type": "code",
   "execution_count": 12,
   "metadata": {},
   "outputs": [],
   "source": [
    "from sklearn.covariance import empirical_covariance\n",
    "\n",
    "def GraphicalLasso_CrossValidation(Xtr, split_strategy, regpar_list):\n",
    "\n",
    "    regpar_list = np.array(regpar_list)\n",
    "    num_regpar = regpar_list.size\n",
    "\n",
    "    n_tot = Xtr.shape[0]\n",
    "\n",
    "    BIC_m = np.zeros(num_regpar)\n",
    "\n",
    "    n_splits=split_strategy.get_n_splits(Xtr)\n",
    "    for kdx, regpar in enumerate(regpar_list):   \n",
    "        for train_index, val_index in split_strategy.split(Xtr):\n",
    "            X = Xtr[train_index]\n",
    "            X_val = Xtr[val_index]\n",
    "            cov = GraphicalLasso(regpar, max_iter=1000).fit(X)\n",
    "            emp_cov = empirical_covariance(X_val) #np.dot(np.transpose(X), X) / X.shape[0]#\n",
    "            est_precision = cov.get_precision()\n",
    "            N = X.shape[0]\n",
    "            BIC_m[kdx] = BIC_m[kdx] + BIC(X_val, est_precision, emp_cov, 1, N)\n",
    "            #Uncomment the following line if you want to apply the metric as computed from sklearn\n",
    "            #BIC_m[kdx] = BIC_m[kdx] + BIC_sklearn(X, 1,cov, N)\n",
    "   \n",
    "    BIC_m = BIC_m / n_splits\n",
    "    best_regpar_idx = np.argmin(BIC_m)\n",
    "    best_reg_par = regpar_list[best_regpar_idx]\n",
    "    cov = GraphicalLasso(best_reg_par, max_iter=1000).fit(Xtr)\n",
    "    best_est_adj = np.where(cov.get_precision()!=0, 1, 0)\n",
    "    return best_reg_par, BIC_m, best_est_adj\n",
    "\n"
   ]
  },
  {
   "cell_type": "markdown",
   "metadata": {},
   "source": [
    "**After selecting the parameter which minimizes the BIC, compares the inferred network with the ground truth in terms of Hamming distance**"
   ]
  },
  {
   "cell_type": "code",
   "execution_count": 13,
   "metadata": {},
   "outputs": [
    {
     "data": {
      "text/plain": [
       "[<matplotlib.lines.Line2D at 0x1a6a1722e08>]"
      ]
     },
     "execution_count": 13,
     "metadata": {},
     "output_type": "execute_result"
    },
    {
     "data": {
      "image/png": "[encoded data removed]",
      "text/plain": [
       "<Figure size 432x288 with 1 Axes>"
      ]
     },
     "metadata": {
      "needs_background": "light"
     },
     "output_type": "display_data"
    }
   ],
   "source": [
    "from sklearn.model_selection import ShuffleSplit \n",
    "from sklearn.model_selection import KFold\n",
    "\n",
    "alphas = [0.005, 0.01, 0.12, 0.15, 0.17, 0.22, 0.25, 0.3, 0.32, 0.35, 0.4, 0.42, 0.45, 0.5, 0.8, 1, 2, 5, 10, 15, 17, 20, 22, 25,30, 40, 50]\n",
    "montecarlo = ShuffleSplit(n_splits=10, test_size=0.1, random_state=1)\n",
    "best_reg_par, BIC_m, best_est_adj = GraphicalLasso_CrossValidation(X, montecarlo, alphas)\n",
    "plt.semilogx(alphas, BIC_m)"
   ]
  },
  {
   "cell_type": "code",
   "execution_count": 14,
   "metadata": {},
   "outputs": [
    {
     "data": {
      "image/png": "[encoded data removed]",
      "text/plain": [
       "<Figure size 936x936 with 2 Axes>"
      ]
     },
     "metadata": {
      "needs_background": "light"
     },
     "output_type": "display_data"
    }
   ],
   "source": [
    "#Plot\n",
    "plt.figure(figsize=(13, 13))\n",
    "plt.subplot(121)\n",
    "plt.imshow(adj_ground_truth * np.where(np.eye(adj_ground_truth.shape[0])==0, 1, 0))\n",
    "plt.title(\"Adjacency matrix of the ground-truth network\")\n",
    "\n",
    "plt.subplot(122)\n",
    "plt.imshow(best_est_adj * np.where(np.eye(adj_ground_truth.shape[0])==0, 1, 0))\n",
    "plt.title('Adjacency matrix estimated from X, using the true precision matrix for comparisons');\n",
    "plt.tight_layout()"
   ]
  },
  {
   "cell_type": "code",
   "execution_count": 15,
   "metadata": {},
   "outputs": [
    {
     "name": "stdout",
     "output_type": "stream",
     "text": [
      "The value of the Hamming distance computed between the ground truth network and the inferred one is  15.11111111111111\n"
     ]
    }
   ],
   "source": [
    "print (\"The value of the Hamming distance computed between the ground truth network and the inferred one is \", hamming_distance(adj_ground_truth, best_est_adj))"
   ]
  },
  {
   "cell_type": "code",
   "execution_count": null,
   "metadata": {},
   "outputs": [],
   "source": []
  }
 ],
 "metadata": {
  "kernelspec": {
   "display_name": "Python 3.8.8",
   "language": "python",
   "name": "python3"
  },
  "language_info": {
   "codemirror_mode": {
    "name": "ipython",
    "version": 3
   },
   "file_extension": ".py",
   "mimetype": "text/x-python",
   "name": "python",
   "nbconvert_exporter": "python",
   "pygments_lexer": "ipython3",
   "version": "3.8.8"
  },
  "vscode": {
   "interpreter": {
    "hash": "b683bd4b87c8b16609ac9a3ef3aab015b96a8503b853fa71d3fe1e7ebcd29d95"
   }
  }
 },
 "nbformat": 4,
 "nbformat_minor": 4
}
